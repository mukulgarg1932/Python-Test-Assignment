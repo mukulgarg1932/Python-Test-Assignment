{
 "cells": [
  {
   "cell_type": "code",
   "execution_count": 8,
   "id": "676e8030-e15d-482c-b256-7dfb0ba3cb58",
   "metadata": {},
   "outputs": [],
   "source": [
    "from IPython.core.interactiveshell import InteractiveShell\n",
    "InteractiveShell.ast_node_interactivity = \"all\""
   ]
  },
  {
   "cell_type": "markdown",
   "id": "b036120f-b8ce-4c66-8767-3fe4ca1c4c0d",
   "metadata": {},
   "source": [
    "## Q1.\n",
    "Write a Python program that defines a function called \"add_numbers\" that takes two\n",
    "arguments (i.e.,\n",
    "numbers) and returns their sum. Within the function, add the two numbers together and return\n",
    "the result\n",
    "using the return statement. Call the function with the values 5 and 6, and print out the returned\n",
    "result.\n",
    "This will result in the addition of 5 and 6, with the output of the program being the sum of these\n",
    "two\n",
    "numbers."
   ]
  },
  {
   "cell_type": "code",
   "execution_count": 1,
   "id": "f959e9ff-0a11-4afd-8fa0-9022654cfd6c",
   "metadata": {},
   "outputs": [
    {
     "name": "stdin",
     "output_type": "stream",
     "text": [
      "Enter the first number\n",
      " 5\n",
      "Enter the second number\n",
      " 6\n"
     ]
    },
    {
     "name": "stdout",
     "output_type": "stream",
     "text": [
      "Sum of numbers 5 and 6 is 11\n"
     ]
    }
   ],
   "source": [
    "# defining the function add_numbers\n",
    "def add_numbers(num1,num2):\n",
    "    result = num1 + num2\n",
    "    return result\n",
    "\n",
    "#Taking Input from the user\n",
    "x = int(input(\"Enter the first number\\n\"))\n",
    "y = int(input(\"Enter the second number\\n\"))\n",
    "\n",
    "#Calling Function add_numbers()\n",
    "output = add_numbers(x,y)\n",
    "print(f\"Sum of numbers {x} and {y} is {output}\")"
   ]
  },
  {
   "cell_type": "markdown",
   "id": "83d8da06-abef-47a6-a46c-d8534f29cbde",
   "metadata": {},
   "source": [
    "## Q2.\n",
    "Write a Python program that calculates the square root of a given number using a built-in\n",
    "function.\n",
    "Specifically, the program should take an integer or float input from the user, calculate its square\n",
    "root\n",
    "using the 'sqrt()' function from the 'math' module, and print out the result to the user. As an\n",
    "example,\n",
    "calculate the square root of the number 625 using this program, which should output the value\n",
    "of 25."
   ]
  },
  {
   "cell_type": "code",
   "execution_count": 3,
   "id": "f8c4a278-244c-47de-8923-eb74aa02962b",
   "metadata": {},
   "outputs": [],
   "source": [
    "# Importing math module to use mathematical function defined inside the module\n",
    "import math"
   ]
  },
  {
   "cell_type": "code",
   "execution_count": 4,
   "id": "2a8bb914-a5a1-4f60-bab2-0c5c9b19c172",
   "metadata": {},
   "outputs": [
    {
     "name": "stdin",
     "output_type": "stream",
     "text": [
      "Enter the number\n",
      " 625\n"
     ]
    },
    {
     "name": "stdout",
     "output_type": "stream",
     "text": [
      "Square root of 625 is 25.0\n"
     ]
    }
   ],
   "source": [
    "#Taking he input from the user\n",
    "num = int(input(\"Enter the number\\n\"))\n",
    "\n",
    "#Calculating square root\n",
    "result = math.sqrt(num)\n",
    "print(f\"Square root of {num} is {result}\")"
   ]
  },
  {
   "cell_type": "markdown",
   "id": "fa0a2f9b-a49e-454c-83fb-d54e54afda0b",
   "metadata": {},
   "source": [
    "## Q3.\n",
    "Write a program that prints all prime numbers between 0 to 50."
   ]
  },
  {
   "cell_type": "code",
   "execution_count": 15,
   "id": "9eac2ca1-2468-4b40-be92-1e4ee7a554d3",
   "metadata": {},
   "outputs": [],
   "source": [
    "#defining check_prime function\n",
    "def check_prime(num):\n",
    "    if num <= 1:\n",
    "        return 0\n",
    "    else :\n",
    "        for i in range(2,int(math.sqrt(num))+1):\n",
    "            if num%i == 0:\n",
    "                return 0\n",
    "        return 1\n",
    "            \n",
    "#defining prime_number function\n",
    "def prime_number(start,end):\n",
    "    prime_list = []\n",
    "    for i in range(start,end+1):\n",
    "        if check_prime(i):\n",
    "            prime_list.append(i)\n",
    "    \n",
    "    return prime_list"
   ]
  },
  {
   "cell_type": "code",
   "execution_count": 18,
   "id": "4d258622-2d3c-4d53-85c0-3c20dd1695ac",
   "metadata": {},
   "outputs": [
    {
     "data": {
      "text/plain": [
       "[2, 3, 5, 7, 11, 13, 17, 19, 23]"
      ]
     },
     "execution_count": 18,
     "metadata": {},
     "output_type": "execute_result"
    },
    {
     "name": "stdout",
     "output_type": "stream",
     "text": [
      "Count of prime numbers from 0 to 50 is  9\n"
     ]
    }
   ],
   "source": [
    "#calling function\n",
    "prime_list = prime_number(0,25)\n",
    "prime_list\n",
    "print(\"Count of prime numbers from 0 to 50 is \",len(prime_list))"
   ]
  },
  {
   "cell_type": "markdown",
   "id": "db44bda3-8476-4bed-b808-0434420de39b",
   "metadata": {},
   "source": [
    "# Q4.\n",
    "How can we swap the values of three variables (let's say a, b, and c) without using a fourth\n",
    "variable?\n",
    "For example, if we have a=5, b=8, and c=9, how can we obtain a=9, b=5, and c=8? The\n",
    "challenge is to\n",
    "perform this operation without using an additional variable to store any of the values during the\n",
    "swapping process."
   ]
  },
  {
   "cell_type": "code",
   "execution_count": 30,
   "id": "e6859d3b-048f-4fa9-9be9-24f4f6819514",
   "metadata": {},
   "outputs": [
    {
     "name": "stdout",
     "output_type": "stream",
     "text": [
      "Value of \n",
      "a = 5\n",
      "b = 8\n",
      "c = 9\n"
     ]
    }
   ],
   "source": [
    "a = 5; b=8; c=9\n",
    "print(f\"Value of \\na = {a}\\nb = {b}\\nc = {c}\")"
   ]
  },
  {
   "cell_type": "code",
   "execution_count": 31,
   "id": "81d6ebd5-60d1-4dc0-b097-1d327ab8a968",
   "metadata": {},
   "outputs": [
    {
     "name": "stdout",
     "output_type": "stream",
     "text": [
      "Value of \n",
      "a = 9\n",
      "b = 5\n",
      "c = 8\n"
     ]
    }
   ],
   "source": [
    "#after swaping\n",
    "a ,b ,c = c, a, b\n",
    "\n",
    "print(f\"Value of \\na = {a}\\nb = {b}\\nc = {c}\")"
   ]
  },
  {
   "cell_type": "markdown",
   "id": "dd9310dd-c371-47b2-bf19-641aa670fca1",
   "metadata": {},
   "source": [
    "# Q5.\n",
    "Can you write a program that determines the nature of a given number (in this case, 87) as\n",
    "being\n",
    "positive, negative, or zero? The program should be designed to take the number as input and\n",
    "perform the\n",
    "necessary calculations to determine if the number is positive (i.e., greater than zero), negative\n",
    "(i.e., less\n",
    "than zero), or zero (i.e., equal to zero). The output of the program should indicate which of these\n",
    "three\n",
    "categories the given number falls into."
   ]
  },
  {
   "cell_type": "code",
   "execution_count": 35,
   "id": "b7221bf5-7134-49c3-91ad-7f6e6d65b928",
   "metadata": {},
   "outputs": [
    {
     "name": "stdin",
     "output_type": "stream",
     "text": [
      "Enter the Number 87\n"
     ]
    },
    {
     "name": "stdout",
     "output_type": "stream",
     "text": [
      "87 is a positive number\n"
     ]
    }
   ],
   "source": [
    "# Taking input from user\n",
    "num = int(input(\"Enter the Number\"))\n",
    "\n",
    "#logic to check nature of a given number\n",
    "if num > 0:\n",
    "    print(f\"{num} is a positive number\")\n",
    "elif num < 0:\n",
    "    print(f\"{num} is a negative number\")\n",
    "else :\n",
    "    print(f\"{num} is equal to zero\")"
   ]
  },
  {
   "cell_type": "markdown",
   "id": "b986d4a4-0f14-4eb8-88d6-f713a0c41629",
   "metadata": {},
   "source": [
    "# Q6.\n",
    "How can you create a program that determines whether a given number (in this case, 98) is\n",
    "even or\n",
    "odd? The program should be designed to take the number as input and perform the necessary\n",
    "calculations to determine whether it is divisible by two. If the number is divisible by two without\n",
    "leaving a\n",
    "remainder, it is an even number, and if there is a remainder, it is an odd number. The output of\n",
    "the\n",
    "program should indicate whether the given number is even or odd."
   ]
  },
  {
   "cell_type": "code",
   "execution_count": 39,
   "id": "42803486-9ead-4636-9697-87228e34c996",
   "metadata": {},
   "outputs": [
    {
     "name": "stdin",
     "output_type": "stream",
     "text": [
      "Enter the Number 98\n"
     ]
    },
    {
     "name": "stdout",
     "output_type": "stream",
     "text": [
      "98 is a even number\n"
     ]
    }
   ],
   "source": [
    "# Taking input from user\n",
    "num = int(input(\"Enter the Number\"))\n",
    "\n",
    "#logic to check  given number is odd or even\n",
    "if num %2 == 0:\n",
    "    print(f\"{num} is a even number\")\n",
    "else :\n",
    "    print(f\"{num} is a odd number\")"
   ]
  },
  {
   "cell_type": "markdown",
   "id": "bad109b0-de1b-4f84-8efd-81a1bba9bfce",
   "metadata": {},
   "source": [
    "# Q7.\n",
    "Write a program for sum of digits.The digits are 76543 and the output should be 25."
   ]
  },
  {
   "cell_type": "code",
   "execution_count": 40,
   "id": "2f1053a9-84d5-4cda-9669-698aa0d0715d",
   "metadata": {},
   "outputs": [
    {
     "name": "stdout",
     "output_type": "stream",
     "text": [
      "sum of digits in 76543 is 25\n"
     ]
    }
   ],
   "source": [
    "num = 76543\n",
    "num_str = str(num)\n",
    "\n",
    "add=0\n",
    "# logic to calculate sum\n",
    "for i in num_str:\n",
    "    add += int(i)\n",
    "    \n",
    "print(f\"sum of digits in {num} is {add}\")"
   ]
  },
  {
   "cell_type": "markdown",
   "id": "7c1bd39d-e926-4fd9-843c-3acbd446f63f",
   "metadata": {},
   "source": [
    "# Q8.\n",
    "Write a program for reversing the given number 5436 and the output should be 6345."
   ]
  },
  {
   "cell_type": "code",
   "execution_count": 57,
   "id": "195eb068-ac2a-4b81-923f-46da56195ac2",
   "metadata": {},
   "outputs": [
    {
     "name": "stdout",
     "output_type": "stream",
     "text": [
      "5436\n",
      "6345\n",
      "5436 reverse is 6345\n"
     ]
    }
   ],
   "source": [
    "num = 5436\n",
    "\n",
    "#first method-----------------\n",
    "\n",
    "num_str = str(num)\n",
    "print(num_str)\n",
    "num_str=num_str[::-1]\n",
    "print(num_str)\n",
    "\n",
    "print(f\"{num} reverse is {int(num_str)}\")\n",
    "\n",
    "#second method --------------------\n",
    "\n",
    "#defining function to reverse\n",
    "\n",
    "def reverse_number(num):\n",
    "    rev = 0 # def rev variable to calculate reverse\n",
    "    temp = num # temp sotring value of number\n",
    "    #123\n",
    "    while temp >= 1:\n",
    "        rem = temp%10\n",
    "        rev = rev*10 + rem\n",
    "        temp =  int(temp/10)\n",
    "    return rev"
   ]
  },
  {
   "cell_type": "code",
   "execution_count": 59,
   "id": "fc298a60-8c6e-4e58-8cb0-df4630027ece",
   "metadata": {},
   "outputs": [
    {
     "data": {
      "text/plain": [
       "6345"
      ]
     },
     "execution_count": 59,
     "metadata": {},
     "output_type": "execute_result"
    }
   ],
   "source": [
    "reverse_number(5436)"
   ]
  },
  {
   "cell_type": "markdown",
   "id": "3f46eea7-d37f-46de-8f3e-567a214392ea",
   "metadata": {},
   "source": [
    "# Q9.\n",
    "Write a program to check if a given number 371 is an Armstrong number?"
   ]
  },
  {
   "cell_type": "code",
   "execution_count": 60,
   "id": "d65baed9-6f3e-480e-bf6d-375d39064082",
   "metadata": {},
   "outputs": [],
   "source": [
    "# definign function\n",
    "def check_armstrong(num):\n",
    "    num_str = str(num)\n",
    "    len_num = len(num_str)\n",
    "    cal = 0\n",
    "    for i in num_str:\n",
    "        cal += int(i)**len_num\n",
    "        \n",
    "    if cal == num:\n",
    "        print(f\"{num} is an armstrong number\")\n",
    "    else:\n",
    "            print(f\"{num} is not an armstrong number\")"
   ]
  },
  {
   "cell_type": "code",
   "execution_count": 65,
   "id": "5bf7d5da-c83d-44eb-b1b1-fc92708b2964",
   "metadata": {},
   "outputs": [
    {
     "name": "stdout",
     "output_type": "stream",
     "text": [
      "371 is an armstrong number\n"
     ]
    }
   ],
   "source": [
    "check_armstrong(371)"
   ]
  },
  {
   "cell_type": "markdown",
   "id": "b48df301-e2fb-4b17-b770-03b354923890",
   "metadata": {},
   "source": [
    "# Q10.\n",
    "Write a program the given year is 1996, a leap year."
   ]
  },
  {
   "cell_type": "code",
   "execution_count": 67,
   "id": "ca279616-a3d1-44f0-86d3-926117381549",
   "metadata": {},
   "outputs": [],
   "source": [
    "# defining function to check whether the year is leap year or not\n",
    "def checkLeapYear(year):\n",
    "        if year%4 == 0 and year%100 != 0:\n",
    "            print(f\"{year} is a leap year\")\n",
    "        elif year%400 == 0:\n",
    "            print(f\"{year} is a leap year\")\n",
    "        else:\n",
    "            print(f\"{year} is not a leap year\")\n"
   ]
  },
  {
   "cell_type": "code",
   "execution_count": 71,
   "id": "00a4d6cd-895b-4803-b4a4-acbb88408275",
   "metadata": {},
   "outputs": [
    {
     "name": "stdin",
     "output_type": "stream",
     "text": [
      "Enter the year of your choice\n",
      " 1996\n"
     ]
    },
    {
     "name": "stdout",
     "output_type": "stream",
     "text": [
      "1996 is a leap year\n"
     ]
    }
   ],
   "source": [
    "# Taking Input from user\n",
    "year = int(input(\"Enter the year of your choice\\n\"))\n",
    "\n",
    "#calling function\n",
    "checkLeapYear(year)"
   ]
  },
  {
   "cell_type": "code",
   "execution_count": null,
   "id": "e68b509c-712f-4c6d-a89b-b9185a4f0cc5",
   "metadata": {},
   "outputs": [],
   "source": []
  }
 ],
 "metadata": {
  "kernelspec": {
   "display_name": "Python 3 (ipykernel)",
   "language": "python",
   "name": "python3"
  },
  "language_info": {
   "codemirror_mode": {
    "name": "ipython",
    "version": 3
   },
   "file_extension": ".py",
   "mimetype": "text/x-python",
   "name": "python",
   "nbconvert_exporter": "python",
   "pygments_lexer": "ipython3",
   "version": "3.10.8"
  }
 },
 "nbformat": 4,
 "nbformat_minor": 5
}
